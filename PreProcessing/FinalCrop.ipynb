{
 "cells": [
  {
   "cell_type": "code",
   "execution_count": 1,
   "metadata": {},
   "outputs": [],
   "source": [
    "import tensorflow as tf\n",
    "from tensorflow import keras"
   ]
  },
  {
   "cell_type": "code",
   "execution_count": 2,
   "metadata": {},
   "outputs": [
    {
     "name": "stdout",
     "output_type": "stream",
     "text": [
      "WARNING:tensorflow:From C:\\Users\\Green\\AppData\\Local\\Temp\\ipykernel_6900\\2269825933.py:1: The name tf.Session is deprecated. Please use tf.compat.v1.Session instead.\n",
      "\n",
      "WARNING:tensorflow:From C:\\Users\\Green\\AppData\\Local\\Temp\\ipykernel_6900\\2269825933.py:1: The name tf.ConfigProto is deprecated. Please use tf.compat.v1.ConfigProto instead.\n",
      "\n",
      "Device mapping:\n",
      "/job:localhost/replica:0/task:0/device:DML:0 -> {\"name\": \"NVIDIA GeForce RTX 2080 Ti\", \"vendor_id\": 4318, \"device_id\": 7687, \"driver_version\": \"30.0.15.1123\"}\n",
      "\n"
     ]
    }
   ],
   "source": [
    "sess = tf.Session(config=tf.ConfigProto(log_device_placement=True))"
   ]
  },
  {
   "cell_type": "code",
   "execution_count": 3,
   "metadata": {},
   "outputs": [],
   "source": [
    "# Copyright 2019-2020 Jordi Corbilla. All Rights Reserved.\n",
    "#\n",
    "# Licensed under the Apache License, Version 2.0 (the \"License\");\n",
    "# you may not use this file except in compliance with the License.\n",
    "# You may obtain a copy of the License at\n",
    "#\n",
    "#     http://www.apache.org/licenses/LICENSE-2.0\n",
    "#\n",
    "# Unless required by applicable law or agreed to in writing, software\n",
    "# distributed under the License is distributed on an \"AS IS\" BASIS,\n",
    "# WITHOUT WARRANTIES OR CONDITIONS OF ANY KIND, either express or implied.\n",
    "# See the License for the specific language governing permissions and\n",
    "# limitations under the License.\n",
    "# ==============================================================================\n",
    "import logging\n",
    "import logging.config\n",
    "from os import listdir\n",
    "from os.path import isfile, join\n",
    "import cv2\n",
    "import numpy as np\n",
    "import logging\n",
    "import os\n",
    "from os import path\n",
    "\n",
    "\n",
    "\n",
    "\n",
    "# Note that this will alter the current training image set folder\n",
    "\n",
    "class ImageCrop:\n",
    "    def __init__(self, source_folder, destination_folder, file_name):\n",
    "        self.logger = logging.getLogger('odir')\n",
    "        self.source_folder = source_folder\n",
    "        self.destination_folder = destination_folder\n",
    "        self.file_name = file_name\n",
    "\n",
    "    def remove_black_pixels(self):\n",
    "        file = os.path.join(self.source_folder, self.file_name)\n",
    "        image = cv2.imread(file)\n",
    "\n",
    "        # Mask of coloured pixels.\n",
    "        mask = image > 0\n",
    "\n",
    "        # Coordinates of coloured pixels.\n",
    "        coordinates = np.argwhere(mask)\n",
    "\n",
    "        # Binding box of non-black pixels.\n",
    "        x0, y0, s0 = coordinates.min(axis=0)\n",
    "        x1, y1, s1 = coordinates.max(axis=0) + 1  # slices are exclusive at the top\n",
    "\n",
    "        # Get the contents of the bounding box.\n",
    "        cropped = image[x0:x1, y0:y1]\n",
    "        # overwrite the same file\n",
    "        file_cropped = os.path.join(self.destination_folder, self.file_name)\n",
    "        cv2.imwrite(file_cropped, cropped)\n"
   ]
  },
  {
   "cell_type": "code",
   "execution_count": 4,
   "metadata": {},
   "outputs": [],
   "source": [
    "def process_all_images():\n",
    "    files = [f for f in listdir(source_folder) if isfile(join(source_folder, f))]\n",
    "    for file in files:\n",
    "        #logger.debug('Processing image: ' + file)\n",
    "        ImageCrop(source_folder, destination_folder, file).remove_black_pixels()\n",
    "\n",
    "\n"
   ]
  },
  {
   "cell_type": "code",
   "execution_count": 5,
   "metadata": {},
   "outputs": [],
   "source": [
    "if __name__ == '__main__':\n",
    "    source_folder = r'C:\\Users\\Green\\Documents\\ODIRCODE\\PreprocessingCodes\\ODIR-5K_Training_Dataset'\n",
    "    destination_folder = r'C:\\Users\\Green\\Documents\\ODIRCODE\\PreprocessingCodes\\ODIR-5K_Training_Dataset_cropped'\n",
    "    # create logger\n",
    "    \n",
    "    #log_file_path = path.join(path.dirname(path.abspath(odir)), 'log.config')\n",
    "    #logging.config.fileConfig(log_file_path)\n",
    "\n",
    "    #logging.config.fileConfig('logging.conf')\n",
    "    #logger = logging.getLogger('odir')\n",
    "    process_all_images()"
   ]
  },
  {
   "cell_type": "code",
   "execution_count": null,
   "metadata": {},
   "outputs": [],
   "source": []
  }
 ],
 "metadata": {
  "kernelspec": {
   "display_name": "ODIR",
   "language": "python",
   "name": "odir"
  },
  "language_info": {
   "codemirror_mode": {
    "name": "ipython",
    "version": 3
   },
   "file_extension": ".py",
   "mimetype": "text/x-python",
   "name": "python",
   "nbconvert_exporter": "python",
   "pygments_lexer": "ipython3",
   "version": "3.7.13"
  }
 },
 "nbformat": 4,
 "nbformat_minor": 4
}
