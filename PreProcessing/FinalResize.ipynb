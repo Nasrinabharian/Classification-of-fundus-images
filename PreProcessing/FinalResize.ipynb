{
 "cells": [
  {
   "cell_type": "code",
   "execution_count": 1,
   "metadata": {},
   "outputs": [],
   "source": [
    "import logging\n",
    "import logging.config\n",
    "from os import listdir\n",
    "from os.path import isfile, join"
   ]
  },
  {
   "cell_type": "code",
   "execution_count": 2,
   "metadata": {},
   "outputs": [],
   "source": [
    "# Copyright 2019-2020 Jordi Corbilla. All Rights Reserved.\n",
    "#\n",
    "# Licensed under the Apache License, Version 2.0 (the \"License\");\n",
    "# you may not use this file except in compliance with the License.\n",
    "# You may obtain a copy of the License at\n",
    "#\n",
    "#     http://www.apache.org/licenses/LICENSE-2.0\n",
    "#\n",
    "# Unless required by applicable law or agreed to in writing, software\n",
    "# distributed under the License is distributed on an \"AS IS\" BASIS,\n",
    "# WITHOUT WARRANTIES OR CONDITIONS OF ANY KIND, either express or implied.\n",
    "# See the License for the specific language governing permissions and\n",
    "# limitations under the License.\n",
    "# ==============================================================================\n",
    "import logging\n",
    "import PIL\n",
    "import os\n",
    "from PIL import Image\n",
    "\n",
    "# This class allows you to resize and mirror an image of the dataset according to specific rules\n",
    "\n",
    "\n",
    "class ImageResizer:\n",
    "    def __init__(self, image_width, quality, source_folder, destination_folder, file_name, keep_aspect_ratio):\n",
    "        self.logger = logging.getLogger('odir')\n",
    "        self.image_width = image_width\n",
    "        self.quality = quality\n",
    "        self.source_folder = source_folder\n",
    "        self.destination_folder= destination_folder\n",
    "        self.file_name = file_name\n",
    "        self.keep_aspect_ration = keep_aspect_ratio\n",
    "\n",
    "    def run(self):\n",
    "        \"\"\" Runs the image library using the constructor arguments.\n",
    "        Args:\n",
    "          No arguments are required.\n",
    "        Returns:\n",
    "          Saves the treated image into a separate folder.\n",
    "        \"\"\"\n",
    "        # We load the original file, we resize it to a smaller width and correspondent height and\n",
    "        # also mirror the image when we find a right eye image so they are all left eyes\n",
    "\n",
    "        file = os.path.join(self.source_folder, self.file_name)\n",
    "        img = Image.open(file)\n",
    "        if self.keep_aspect_ration:\n",
    "            # it will have the exact same width-to-height ratio as the original photo\n",
    "            width_percentage = (self.image_width / float(img.size[0]))\n",
    "            height_size = int((float(img.size[1]) * float(width_percentage)))\n",
    "            img = img.resize((self.image_width, height_size), PIL.Image.ANTIALIAS)\n",
    "        else:\n",
    "            # This will force the image to be square\n",
    "            img = img.resize((self.image_width, self.image_width), PIL.Image.ANTIALIAS)\n",
    "        if \"right\" in self.file_name:\n",
    "            self.logger.debug(\"Right eye image found. Flipping it\")\n",
    "            img.transpose(Image.FLIP_LEFT_RIGHT).save(os.path.join(self.destination_folder, self.file_name), optimize=True, quality=self.quality)\n",
    "        else:\n",
    "            img.save(os.path.join(self.destination_folder, self.file_name), optimize=True, quality=self.quality)\n",
    "        self.logger.debug(\"Image saved\")"
   ]
  },
  {
   "cell_type": "code",
   "execution_count": 4,
   "metadata": {},
   "outputs": [
    {
     "name": "stderr",
     "output_type": "stream",
     "text": [
      "C:\\Users\\Green\\anaconda3\\envs\\ODIR\\lib\\site-packages\\ipykernel_launcher.py:52: DeprecationWarning: ANTIALIAS is deprecated and will be removed in Pillow 10 (2023-07-01). Use Resampling.LANCZOS instead.\n",
      "C:\\Users\\Green\\anaconda3\\envs\\ODIR\\lib\\site-packages\\ipykernel_launcher.py:55: DeprecationWarning: FLIP_LEFT_RIGHT is deprecated and will be removed in Pillow 10 (2023-07-01). Use Transpose.FLIP_LEFT_RIGHT instead.\n"
     ]
    }
   ],
   "source": [
    "\n",
    "# This default job to 224px images, will shrink the dataset from 1,439,776,768 bytes\n",
    "# to 116,813,824 bytes 91.8% size reduction\n",
    "\n",
    "def process_all_images():\n",
    "    files = [f for f in listdir(source_folder) if isfile(join(source_folder, f))]\n",
    "    for file in files:\n",
    "        #logger.debug('Processing image: ' + file)\n",
    "        ImageResizer(image_width, quality, source_folder, destination_folder, file, keep_aspect_ratio).run()\n",
    "\n",
    "\n",
    "if __name__ == '__main__':\n",
    "    # Set the base width of the image to 200 pixels\n",
    "    image_width = 224\n",
    "    keep_aspect_ratio = False\n",
    "    # set the quality of the resultant jpeg to 100%\n",
    "    quality = 100\n",
    "    source_folder = r'D:\\Projects\\ODIR\\ODIRCODE\\PreprocessingCodes\\ODIR-5K_Training_Dataset_cropped'\n",
    "    destination_folder = r'D:\\Projects\\ODIR\\ODIRCODE\\PreprocessingCodes\\ODIR-5K_Training_Images_treated' + '_' + str(image_width)\n",
    "    # create logger\n",
    "    #logging.config.fileConfig('logging.conf')\n",
    "    logger = logging.getLogger('odir')\n",
    "    process_all_images()"
   ]
  },
  {
   "cell_type": "code",
   "execution_count": null,
   "metadata": {},
   "outputs": [],
   "source": []
  }
 ],
 "metadata": {
  "kernelspec": {
   "display_name": "ODIR",
   "language": "python",
   "name": "odir"
  },
  "language_info": {
   "codemirror_mode": {
    "name": "ipython",
    "version": 3
   },
   "file_extension": ".py",
   "mimetype": "text/x-python",
   "name": "python",
   "nbconvert_exporter": "python",
   "pygments_lexer": "ipython3",
   "version": "3.7.13"
  }
 },
 "nbformat": 4,
 "nbformat_minor": 5
}
